{
 "cells": [
  {
   "cell_type": "code",
   "execution_count": 14,
   "metadata": {},
   "outputs": [],
   "source": [
    "class dog:                        #polymorphism\n",
    "    def talk(self):\n",
    "        print(\"it barks!\")\n",
    "class cat:\n",
    "    def talk(self):\n",
    "        print(\"meows!\")\n",
    "def f1(obj):\n",
    "    obj.talk()"
   ]
  },
  {
   "cell_type": "code",
   "execution_count": 8,
   "metadata": {},
   "outputs": [],
   "source": []
  },
  {
   "cell_type": "code",
   "execution_count": 15,
   "metadata": {},
   "outputs": [
    {
     "name": "stdout",
     "output_type": "stream",
     "text": [
      "meows!\n",
      "it barks!\n"
     ]
    }
   ],
   "source": [
    "l=[cat(),dog()]\n",
    "for obj in l :\n",
    "    f1(obj)"
   ]
  },
  {
   "cell_type": "code",
   "execution_count": 16,
   "metadata": {},
   "outputs": [
    {
     "name": "stdout",
     "output_type": "stream",
     "text": [
      "it barks!\n"
     ]
    }
   ],
   "source": [
    "d=dog()\n",
    "f1(d)"
   ]
  },
  {
   "cell_type": "code",
   "execution_count": 17,
   "metadata": {},
   "outputs": [],
   "source": [
    "class dog:                        #polymorphism\n",
    "    def bark(self):\n",
    "        print(\"it barks!\")\n",
    "class cat:\n",
    "    def talk(self):\n",
    "        print(\"meows!\")\n",
    "        \n",
    "def f1(obj):\n",
    "    if hasattr(obj,\"talk\"):\n",
    "        obj.talk()\n",
    "    elif hasattr(obj,\"bark\"):\n",
    "        obj.bark()"
   ]
  },
  {
   "cell_type": "code",
   "execution_count": 18,
   "metadata": {},
   "outputs": [
    {
     "name": "stdout",
     "output_type": "stream",
     "text": [
      "it barks!\n"
     ]
    }
   ],
   "source": [
    "d=dog()\n",
    "f1(d)"
   ]
  },
  {
   "cell_type": "code",
   "execution_count": 19,
   "metadata": {},
   "outputs": [
    {
     "name": "stdout",
     "output_type": "stream",
     "text": [
      "meows!\n"
     ]
    }
   ],
   "source": [
    "c=cat()\n",
    "f1(c)"
   ]
  },
  {
   "cell_type": "code",
   "execution_count": 20,
   "metadata": {},
   "outputs": [
    {
     "ename": "TypeError",
     "evalue": "unsupported operand type(s) for +: 'book' and 'book'",
     "output_type": "error",
     "traceback": [
      "\u001b[1;31m---------------------------------------------------------------------------\u001b[0m",
      "\u001b[1;31mTypeError\u001b[0m                                 Traceback (most recent call last)",
      "\u001b[1;32m<ipython-input-20-a233527c1849>\u001b[0m in \u001b[0;36m<module>\u001b[1;34m\u001b[0m\n\u001b[0;32m      6\u001b[0m \u001b[0mb1\u001b[0m\u001b[1;33m=\u001b[0m\u001b[0mbook\u001b[0m\u001b[1;33m(\u001b[0m\u001b[1;36m100\u001b[0m\u001b[1;33m)\u001b[0m\u001b[1;33m\u001b[0m\u001b[1;33m\u001b[0m\u001b[0m\n\u001b[0;32m      7\u001b[0m \u001b[0mb2\u001b[0m\u001b[1;33m=\u001b[0m\u001b[0mbook\u001b[0m\u001b[1;33m(\u001b[0m\u001b[1;36m200\u001b[0m\u001b[1;33m)\u001b[0m\u001b[1;33m\u001b[0m\u001b[1;33m\u001b[0m\u001b[0m\n\u001b[1;32m----> 8\u001b[1;33m \u001b[0mprint\u001b[0m\u001b[1;33m(\u001b[0m\u001b[0mb1\u001b[0m\u001b[1;33m+\u001b[0m\u001b[0mb2\u001b[0m\u001b[1;33m)\u001b[0m\u001b[1;33m\u001b[0m\u001b[1;33m\u001b[0m\u001b[0m\n\u001b[0m",
      "\u001b[1;31mTypeError\u001b[0m: unsupported operand type(s) for +: 'book' and 'book'"
     ]
    }
   ],
   "source": [
    "#program to demonstrate operator overloading (+)\n",
    "class book:\n",
    "    def __init__(self,page):\n",
    "        self.page =page\n",
    "\n",
    "b1=book(100)\n",
    "b2=book(200)\n",
    "print(b1+b2)\n"
   ]
  },
  {
   "cell_type": "code",
   "execution_count": 28,
   "metadata": {},
   "outputs": [
    {
     "name": "stdout",
     "output_type": "stream",
     "text": [
      "100\n",
      "200\n",
      "200\n",
      "100\n",
      "300\n"
     ]
    }
   ],
   "source": [
    "#pytho supports for operator overloding,but to overload any opertor \n",
    "#we have to override that method in our class\n",
    "\n",
    "class book:                             #magic method class\n",
    "                        #operator overloading through method overriding\n",
    "    def __init__(self,page):\n",
    "        self.page =page\n",
    "        print(self.page)\n",
    "        \n",
    "    def __add__(self,other):\n",
    "        print(other.page)\n",
    "        print(self.page)\n",
    "        return self.page + other.page\n",
    "    \n",
    "    \n",
    "b1=book(100)\n",
    "b2=book(200)\n",
    "print(b1+b2)\n"
   ]
  },
  {
   "cell_type": "code",
   "execution_count": 29,
   "metadata": {},
   "outputs": [],
   "source": [
    " class student:\n",
    "    def __init__(self,name,mark):\n",
    "        self.name=name\n",
    "        self.mark=mark\n",
    "    def __gt__(self,other):\n",
    "        return self.mark > other.mark\n",
    "    def __le__(self,other):\n",
    "        return self.mark <= other.mark\n"
   ]
  },
  {
   "cell_type": "code",
   "execution_count": 33,
   "metadata": {},
   "outputs": [
    {
     "name": "stdout",
     "output_type": "stream",
     "text": [
      "False\n",
      "True\n"
     ]
    }
   ],
   "source": [
    "s1=student(\"a\",11)\n",
    "s2=student(\"s\",13)\n",
    "print(s1>s2)\n",
    "print(s1<=s2)"
   ]
  },
  {
   "cell_type": "code",
   "execution_count": 44,
   "metadata": {},
   "outputs": [
    {
     "name": "stdout",
     "output_type": "stream",
     "text": [
      "This monyh salary is:  1000\n"
     ]
    }
   ],
   "source": [
    "#prog to overload multiplication operator to work on employee obj\n",
    "class emp:\n",
    "    def __init__(self,name,sal):\n",
    "        self.name=name\n",
    "        self.sal=sal\n",
    "    def __mul__(self,other):\n",
    "        return self.sal*other.days\n",
    "class attend:\n",
    "    def __init__(self,name,days):\n",
    "        self.name=name\n",
    "        self.days=days   \n",
    "    \n",
    "\n",
    "e1=emp(\"a\",100)\n",
    "a1=attend(\"a\",10)\n",
    "print(\"This monyh salary is: \",e1*a1)"
   ]
  },
  {
   "cell_type": "code",
   "execution_count": 43,
   "metadata": {},
   "outputs": [
    {
     "name": "stdout",
     "output_type": "stream",
     "text": [
      "This monyh salary is:  1000\n"
     ]
    }
   ],
   "source": [
    "class emp:\n",
    "    def __init__(self,name,sal):\n",
    "        self.name=name\n",
    "        self.sal=sal\n",
    "    \n",
    "class attend:\n",
    "    def __init__(self,name,days):\n",
    "        self.name=name\n",
    "        self.days=days   \n",
    "    def __mul__(self,other):\n",
    "        return self.days*other.sal\n",
    "\n",
    "e1=emp(\"a\",100)    \n",
    "a1=attend(\"a\",10)\n",
    "print(\"This monyh salary is: \",a1*e1)"
   ]
  },
  {
   "cell_type": "code",
   "execution_count": 46,
   "metadata": {},
   "outputs": [
    {
     "name": "stdout",
     "output_type": "stream",
     "text": [
      "Has two arguments\n"
     ]
    }
   ],
   "source": [
    "class test:\n",
    "    def q1(self):\n",
    "        print(\"no arguments\")\n",
    "    def q1(self,a):\n",
    "        print(\"Has one argument\")\n",
    "    def q1(self,a,b):\n",
    "        print(\"Has two arguments\")\n",
    "t1=test()\n",
    "#t1.q1()\n",
    "#t1.q1(1)\n",
    "t1.q1(1,2)"
   ]
  },
  {
   "cell_type": "code",
   "execution_count": 48,
   "metadata": {},
   "outputs": [
    {
     "ename": "TypeError",
     "evalue": "q1() missing 1 required positional argument: 'b'",
     "output_type": "error",
     "traceback": [
      "\u001b[1;31m---------------------------------------------------------------------------\u001b[0m",
      "\u001b[1;31mTypeError\u001b[0m                                 Traceback (most recent call last)",
      "\u001b[1;32m<ipython-input-48-a17bb63b0eb1>\u001b[0m in \u001b[0;36m<module>\u001b[1;34m\u001b[0m\n\u001b[1;32m----> 1\u001b[1;33m \u001b[0mt1\u001b[0m\u001b[1;33m.\u001b[0m\u001b[0mq1\u001b[0m\u001b[1;33m(\u001b[0m\u001b[1;36m4\u001b[0m\u001b[1;33m)\u001b[0m\u001b[1;33m\u001b[0m\u001b[1;33m\u001b[0m\u001b[0m\n\u001b[0m",
      "\u001b[1;31mTypeError\u001b[0m: q1() missing 1 required positional argument: 'b'"
     ]
    }
   ],
   "source": [
    "t1.q1(4)"
   ]
  },
  {
   "cell_type": "code",
   "execution_count": 49,
   "metadata": {},
   "outputs": [],
   "source": [
    "class test:\n",
    "    def Sum(self,a=None,b=None,c=None):\n",
    "        if a!=None and b!=None and c!=None:\n",
    "            print(\"The sum of three numbers is \",a+b+c)\n",
    "        elif a!=None and b!=None :\n",
    "            print(\"The sum of tho numbers is \",a+b)\n",
    "        else :print(\"Provide more than one argument \")"
   ]
  },
  {
   "cell_type": "code",
   "execution_count": 50,
   "metadata": {},
   "outputs": [
    {
     "name": "stdout",
     "output_type": "stream",
     "text": [
      "Provide more than one argument \n"
     ]
    }
   ],
   "source": [
    "t=test()\n",
    "t.Sum(10)"
   ]
  },
  {
   "cell_type": "code",
   "execution_count": 51,
   "metadata": {},
   "outputs": [
    {
     "name": "stdout",
     "output_type": "stream",
     "text": [
      "The sum of tho numbers is  30\n"
     ]
    }
   ],
   "source": [
    "t.Sum(10,20)"
   ]
  },
  {
   "cell_type": "code",
   "execution_count": 52,
   "metadata": {},
   "outputs": [],
   "source": [
    "class emp:\n",
    "    def __init__(self,name,sal):\n",
    "        self.name=name\n",
    "        self.sal=sal\n",
    "        print(\"two argument constructor\")\n",
    "    def __init__(self,name):\n",
    "        self.name=name\n",
    "        print(\"one argument constructor\")\n",
    "    def __init__(self):\n",
    "        print(\"no argument constructor\")\n",
    "        "
   ]
  },
  {
   "cell_type": "code",
   "execution_count": 55,
   "metadata": {},
   "outputs": [
    {
     "name": "stdout",
     "output_type": "stream",
     "text": [
      "no argument constructor\n"
     ]
    }
   ],
   "source": [
    "ex=emp()"
   ]
  },
  {
   "cell_type": "code",
   "execution_count": 66,
   "metadata": {},
   "outputs": [],
   "source": [
    "class emp:\n",
    "    def __init__(self,name=None ,sal=None):\n",
    "        self.name=name\n",
    "        self.sal=sal\n",
    "        print(\"two argument constructor\")\n"
   ]
  },
  {
   "cell_type": "code",
   "execution_count": 65,
   "metadata": {},
   "outputs": [
    {
     "name": "stdout",
     "output_type": "stream",
     "text": [
      "two argument constructor\n"
     ]
    }
   ],
   "source": [
    "ex1=emp(\"a\")"
   ]
  },
  {
   "cell_type": "code",
   "execution_count": 68,
   "metadata": {},
   "outputs": [],
   "source": [
    "#method over riding\n",
    "\n",
    "class parent:\n",
    "    def p1(self):\n",
    "        print(\"hello!\")\n",
    "    def m1(self):\n",
    "        print(\"parent method 1\")\n",
    "        \n",
    "class child(parent):\n",
    "    def m1(self):\n",
    "        print(\"child method!\")\n",
    "        \n",
    "    \n",
    "    "
   ]
  },
  {
   "cell_type": "code",
   "execution_count": 69,
   "metadata": {},
   "outputs": [],
   "source": [
    "c=child()"
   ]
  },
  {
   "cell_type": "code",
   "execution_count": 71,
   "metadata": {},
   "outputs": [
    {
     "name": "stdout",
     "output_type": "stream",
     "text": [
      "hello!\n"
     ]
    }
   ],
   "source": [
    "c.p1()"
   ]
  },
  {
   "cell_type": "code",
   "execution_count": 72,
   "metadata": {},
   "outputs": [
    {
     "name": "stdout",
     "output_type": "stream",
     "text": [
      "child method!\n"
     ]
    }
   ],
   "source": [
    "c.m1()# method over riding"
   ]
  },
  {
   "cell_type": "code",
   "execution_count": 82,
   "metadata": {},
   "outputs": [
    {
     "name": "stdout",
     "output_type": "stream",
     "text": [
      "hello!\n",
      "parent method 1\n",
      "child method!\n"
     ]
    }
   ],
   "source": [
    "# fom over riding mtd of child class we can call parent class also\n",
    "#by using super() method\n",
    "class parent:\n",
    "    def p1(self):\n",
    "        print(\"hello!\")\n",
    "    def m1(self):\n",
    "        print(\"parent method 1\")\n",
    "        \n",
    "class child(parent):\n",
    "    def m1(self):\n",
    "        super().m1()\n",
    "        print(\"child method!\")\n",
    "c1=child()\n",
    "c1.p1()\n",
    "c1.m1()        \n",
    "    \n",
    "    "
   ]
  },
  {
   "cell_type": "code",
   "execution_count": 83,
   "metadata": {},
   "outputs": [
    {
     "name": "stdout",
     "output_type": "stream",
     "text": [
      "child constructer\n"
     ]
    }
   ],
   "source": [
    "class parent:\n",
    "    def __init__(self):\n",
    "        print(\"parent constructer\")\n",
    "class child(parent):\n",
    "    def __init__(self):\n",
    "       \n",
    "        print(\"child constructer\")\n",
    "c2=child()\n",
    "\n",
    "\n",
    "    "
   ]
  },
  {
   "cell_type": "code",
   "execution_count": 86,
   "metadata": {},
   "outputs": [],
   "source": [
    "#costructor over riding\n",
    "\n",
    "class person:\n",
    "    def __init__(self,name,age):\n",
    "        self.name=name\n",
    "        self.age=age\n",
    "class employee(person):\n",
    "    def __init__(self,name,age,empno,sal):\n",
    "        super().__init__(name,age)\n",
    "        self.empno=empno\n",
    "        self.sal=sal\n",
    "        \n",
    "    def dis(self):\n",
    "        print(\"name: \",self.name)\n",
    "        print(\"age: \",self.age)\n",
    "        print(\"employee number: \",self.empno)\n",
    "        print(\"salary: \",self.sal)"
   ]
  },
  {
   "cell_type": "code",
   "execution_count": 87,
   "metadata": {},
   "outputs": [
    {
     "name": "stdout",
     "output_type": "stream",
     "text": [
      "name:  aaa\n",
      "age:  22\n",
      "employee number:  1234\n",
      "salary:  1000000\n"
     ]
    }
   ],
   "source": [
    "emp=employee(\"aaa\",22,1234,1000000)\n",
    "emp.dis()"
   ]
  },
  {
   "cell_type": "code",
   "execution_count": null,
   "metadata": {},
   "outputs": [],
   "source": []
  }
 ],
 "metadata": {
  "kernelspec": {
   "display_name": "Python 3",
   "language": "python",
   "name": "python3"
  },
  "language_info": {
   "codemirror_mode": {
    "name": "ipython",
    "version": 3
   },
   "file_extension": ".py",
   "mimetype": "text/x-python",
   "name": "python",
   "nbconvert_exporter": "python",
   "pygments_lexer": "ipython3",
   "version": "3.7.3"
  }
 },
 "nbformat": 4,
 "nbformat_minor": 2
}
