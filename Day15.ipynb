{
 "cells": [
  {
   "cell_type": "code",
   "execution_count": 1,
   "metadata": {},
   "outputs": [],
   "source": [
    "import cv2"
   ]
  },
  {
   "cell_type": "code",
   "execution_count": 2,
   "metadata": {},
   "outputs": [
    {
     "data": {
      "text/plain": [
       "array([[0., 0.],\n",
       "       [0., 0.]])"
      ]
     },
     "execution_count": 2,
     "metadata": {},
     "output_type": "execute_result"
    }
   ],
   "source": [
    "import numpy as np\n",
    "np.zeros((2,2))"
   ]
  },
  {
   "cell_type": "code",
   "execution_count": 3,
   "metadata": {},
   "outputs": [
    {
     "data": {
      "text/plain": [
       "array([[[1, 1, 1, 1],\n",
       "        [1, 1, 1, 1],\n",
       "        [1, 1, 1, 1]]], dtype=int16)"
      ]
     },
     "execution_count": 3,
     "metadata": {},
     "output_type": "execute_result"
    }
   ],
   "source": [
    "import numpy as np\n",
    "np.ones((1,3,4), dtype=np.int16)"
   ]
  },
  {
   "cell_type": "code",
   "execution_count": 4,
   "metadata": {},
   "outputs": [],
   "source": [
    "img= cv2.imread(\"images.png\")"
   ]
  },
  {
   "cell_type": "code",
   "execution_count": 5,
   "metadata": {},
   "outputs": [
    {
     "data": {
      "text/plain": [
       "-1"
      ]
     },
     "execution_count": 5,
     "metadata": {},
     "output_type": "execute_result"
    }
   ],
   "source": [
    "cv2.imshow(\"Input\",img)\n",
    "cv2.waitKey(0)"
   ]
  },
  {
   "cell_type": "code",
   "execution_count": 6,
   "metadata": {},
   "outputs": [
    {
     "data": {
      "text/plain": [
       "-1"
      ]
     },
     "execution_count": 6,
     "metadata": {},
     "output_type": "execute_result"
    }
   ],
   "source": [
    "\n",
    "import cv2\n",
    "import numpy as np\n",
    "img= cv2.imread(\"images.png\")\n",
    "kernel=np.ones((4,4),np.uint8)\n",
    "im_erosion=cv2.erode(img,kernel,iterations=1)\n",
    "im_dilation=cv2.dilate(img,kernel,iterations=2)\n",
    "cv2.imshow(\"Input\",img)\n",
    "cv2.imshow(\"Erosion\",im_erosion)\n",
    "cv2.imshow(\"Dilation\",im_dilation)\n",
    "cv2.waitKey(0)"
   ]
  },
  {
   "cell_type": "code",
   "execution_count": 1,
   "metadata": {},
   "outputs": [],
   "source": [
    "f=open(\"abc.txt\",\"w\")"
   ]
  },
  {
   "cell_type": "code",
   "execution_count": 2,
   "metadata": {},
   "outputs": [
    {
     "name": "stdout",
     "output_type": "stream",
     "text": [
      "File name:  abc.txt\n"
     ]
    }
   ],
   "source": [
    "print(\"File name: \",f.name)"
   ]
  },
  {
   "cell_type": "code",
   "execution_count": 3,
   "metadata": {},
   "outputs": [
    {
     "name": "stdout",
     "output_type": "stream",
     "text": [
      "File mode:  w\n"
     ]
    }
   ],
   "source": [
    "print(\"File mode: \",f.mode)"
   ]
  },
  {
   "cell_type": "code",
   "execution_count": 4,
   "metadata": {},
   "outputs": [
    {
     "name": "stdout",
     "output_type": "stream",
     "text": [
      "is file readable:  False\n"
     ]
    }
   ],
   "source": [
    "print(\"is file readable: \",f.readable())"
   ]
  },
  {
   "cell_type": "code",
   "execution_count": 5,
   "metadata": {},
   "outputs": [
    {
     "name": "stdout",
     "output_type": "stream",
     "text": [
      "file is writable:  True\n"
     ]
    }
   ],
   "source": [
    "print(\"file is writable: \",f.writable())"
   ]
  },
  {
   "cell_type": "code",
   "execution_count": 6,
   "metadata": {},
   "outputs": [
    {
     "name": "stdout",
     "output_type": "stream",
     "text": [
      "is closed:  False\n"
     ]
    }
   ],
   "source": [
    "print(\"is closed: \",f.closed)"
   ]
  },
  {
   "cell_type": "code",
   "execution_count": 7,
   "metadata": {},
   "outputs": [
    {
     "name": "stdout",
     "output_type": "stream",
     "text": [
      "is closed:  True\n"
     ]
    }
   ],
   "source": [
    "f.close()\n",
    "print(\"is closed: \",f.closed)"
   ]
  },
  {
   "cell_type": "code",
   "execution_count": 19,
   "metadata": {},
   "outputs": [
    {
     "name": "stdout",
     "output_type": "stream",
     "text": [
      "Data written successfully!\n"
     ]
    },
    {
     "data": {
      "text/plain": [
       "<function TextIOWrapper.close()>"
      ]
     },
     "execution_count": 19,
     "metadata": {},
     "output_type": "execute_result"
    }
   ],
   "source": [
    "f=open(\"abc.txt\",\"w\")\n",
    "f.write(\"Abhishek\\n\")\n",
    "f.write(\"Shrikant\\n\")\n",
    "f.write(\"Nazare\\n\")\n",
    "print(\"Data written successfully!\")\n"
   ]
  },
  {
   "cell_type": "code",
   "execution_count": 20,
   "metadata": {},
   "outputs": [],
   "source": [
    "f.close()"
   ]
  },
  {
   "cell_type": "code",
   "execution_count": 22,
   "metadata": {},
   "outputs": [
    {
     "name": "stdout",
     "output_type": "stream",
     "text": [
      "Data written successfully!\n"
     ]
    }
   ],
   "source": [
    "f=open(\"abc.txt\",\"w\")\n",
    "f.write(\"Abhishek\\n\")\n",
    "f.write(\"Shrikant\\n\")\n",
    "f.write(\"Nazare\\n\")\n",
    "print(\"Data written successfully!\")\n",
    "f.close()"
   ]
  },
  {
   "cell_type": "code",
   "execution_count": 8,
   "metadata": {},
   "outputs": [
    {
     "name": "stdout",
     "output_type": "stream",
     "text": [
      "Data written successfully!\n"
     ]
    }
   ],
   "source": [
    "f=open(\"abc.txt\",\"w\")\n",
    "list1=[\"abc\\n\",\"bnm\\n\",\"sdf\"]\n",
    "f.writelines(list1)\n",
    "print(\"Data written successfully!\")\n",
    "f.close()"
   ]
  },
  {
   "cell_type": "code",
   "execution_count": 11,
   "metadata": {},
   "outputs": [
    {
     "name": "stdout",
     "output_type": "stream",
     "text": [
      "abc\n",
      "bnm\n",
      "sdf\n"
     ]
    }
   ],
   "source": [
    "#read data from the file\n",
    "f=open(\"abc.txt\",\"r\")\n",
    "data=f.read()\n",
    "print(data)\n",
    "f.close()"
   ]
  },
  {
   "cell_type": "code",
   "execution_count": 30,
   "metadata": {},
   "outputs": [
    {
     "name": "stdout",
     "output_type": "stream",
     "text": [
      "abc\n",
      "bnm\n",
      "sdf\n"
     ]
    }
   ],
   "source": [
    "#read first 4 character\n",
    "f=open(\"abc.txt\",\"r\")\n",
    "data=f.read(22)\n",
    "print(data)\n",
    "f.close()"
   ]
  },
  {
   "cell_type": "code",
   "execution_count": 12,
   "metadata": {},
   "outputs": [
    {
     "name": "stdout",
     "output_type": "stream",
     "text": [
      "abc\n"
     ]
    }
   ],
   "source": [
    "#read data linr by line\n",
    "f=open(\"abc.txt\",\"r\")\n",
    "line1=f.readline()\n",
    "print(line1,end=\"\")\n",
    "line2=f.readline()\n",
    "print(line2,end=\"\")\n",
    "line3=f.readline()\n",
    "print(line3,end=\"\")\n",
    "\n",
    "f.close()\n"
   ]
  },
  {
   "cell_type": "code",
   "execution_count": 39,
   "metadata": {},
   "outputs": [
    {
     "name": "stdout",
     "output_type": "stream",
     "text": [
      "abc\n",
      "bnm\n",
      "sdf<class 'list'>\n"
     ]
    }
   ],
   "source": [
    "#to read all lines into a list\n",
    "f=open(\"abc.txt\",\"r\")\n",
    "line_all=f.readlines()\n",
    "#print(line_all)\n",
    "for line in line_all :\n",
    "\n",
    "    print (line,end=\"\")\n",
    "print(type(line_all))\n",
    "f.close()"
   ]
  },
  {
   "cell_type": "code",
   "execution_count": null,
   "metadata": {},
   "outputs": [],
   "source": []
  }
 ],
 "metadata": {
  "kernelspec": {
   "display_name": "Python 3",
   "language": "python",
   "name": "python3"
  },
  "language_info": {
   "codemirror_mode": {
    "name": "ipython",
    "version": 3
   },
   "file_extension": ".py",
   "mimetype": "text/x-python",
   "name": "python",
   "nbconvert_exporter": "python",
   "pygments_lexer": "ipython3",
   "version": "3.7.3"
  }
 },
 "nbformat": 4,
 "nbformat_minor": 2
}
