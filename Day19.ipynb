{
 "cells": [
  {
   "cell_type": "code",
   "execution_count": 3,
   "metadata": {},
   "outputs": [],
   "source": [
    "# opps\n",
    "class classname:\n",
    "    '''Nmae :Abhishek\n",
    "    my first oops class'''\n",
    "    "
   ]
  },
  {
   "cell_type": "code",
   "execution_count": 4,
   "metadata": {},
   "outputs": [
    {
     "name": "stdout",
     "output_type": "stream",
     "text": [
      "Nmae :Abhishek\n",
      "    my first oops class\n"
     ]
    }
   ],
   "source": [
    "print(classname.__doc__)"
   ]
  },
  {
   "cell_type": "code",
   "execution_count": 5,
   "metadata": {},
   "outputs": [
    {
     "name": "stdout",
     "output_type": "stream",
     "text": [
      "{'__module__': '__main__', '__doc__': 'Nmae :Abhishek\\n    my first oops class', '__dict__': <attribute '__dict__' of 'classname' objects>, '__weakref__': <attribute '__weakref__' of 'classname' objects>}\n"
     ]
    }
   ],
   "source": [
    "print(classname.__dict__)"
   ]
  },
  {
   "cell_type": "code",
   "execution_count": 6,
   "metadata": {},
   "outputs": [
    {
     "name": "stdout",
     "output_type": "stream",
     "text": [
      "classname\n"
     ]
    }
   ],
   "source": [
    "print(classname.__name__)"
   ]
  },
  {
   "cell_type": "code",
   "execution_count": 8,
   "metadata": {},
   "outputs": [
    {
     "data": {
      "text/plain": [
       "['__class__',\n",
       " '__delattr__',\n",
       " '__dict__',\n",
       " '__dir__',\n",
       " '__doc__',\n",
       " '__eq__',\n",
       " '__format__',\n",
       " '__ge__',\n",
       " '__getattribute__',\n",
       " '__gt__',\n",
       " '__hash__',\n",
       " '__init__',\n",
       " '__init_subclass__',\n",
       " '__le__',\n",
       " '__lt__',\n",
       " '__module__',\n",
       " '__ne__',\n",
       " '__new__',\n",
       " '__reduce__',\n",
       " '__reduce_ex__',\n",
       " '__repr__',\n",
       " '__setattr__',\n",
       " '__sizeof__',\n",
       " '__str__',\n",
       " '__subclasshook__',\n",
       " '__weakref__']"
      ]
     },
     "execution_count": 8,
     "metadata": {},
     "output_type": "execute_result"
    }
   ],
   "source": [
    "dir(classname)"
   ]
  },
  {
   "cell_type": "code",
   "execution_count": 9,
   "metadata": {},
   "outputs": [],
   "source": [
    "class student:\n",
    "    def __init__(self):\n",
    "        print(\"constructer exucation\")\n",
    "    \n",
    "    def m1(self):\n",
    "        print(\"Method exucation\")"
   ]
  },
  {
   "cell_type": "code",
   "execution_count": 10,
   "metadata": {},
   "outputs": [
    {
     "name": "stdout",
     "output_type": "stream",
     "text": [
      "constructer exucation\n"
     ]
    }
   ],
   "source": [
    "s1=student()"
   ]
  },
  {
   "cell_type": "code",
   "execution_count": 11,
   "metadata": {},
   "outputs": [
    {
     "name": "stdout",
     "output_type": "stream",
     "text": [
      "Method exucation\n"
     ]
    }
   ],
   "source": [
    "s1.m1()"
   ]
  },
  {
   "cell_type": "code",
   "execution_count": 1,
   "metadata": {},
   "outputs": [],
   "source": [
    "#python program to creat student class and creat object of it and consider \n",
    "#a method to display the students details\n",
    "class student:\n",
    "    x=10\n",
    "    def __init__(self,name,rollno,marks):\n",
    "        self.name=name\n",
    "        self.rollno=rollno\n",
    "        self.marks=marks\n",
    "    def display(self):\n",
    "        print(\"Hello,my name is :\",self.name)\n",
    "        print(\"roll number:\",self.rollno)\n",
    "        print(\"marks\",self.marks)\n",
    "    \n",
    "    def grade(self):\n",
    "        if self.marks>=60 :\n",
    "            print(\"First class\")\n",
    "        elif self.marks>=50 :\n",
    "            print(\"Second class\")\n",
    "        elif self.marks>=35:\n",
    "            print(\"Third class\")\n",
    "        else :print(\"Fail!!\")"
   ]
  },
  {
   "cell_type": "code",
   "execution_count": 5,
   "metadata": {},
   "outputs": [
    {
     "name": "stdout",
     "output_type": "stream",
     "text": [
      "Hello,my name is : Abhi\n",
      "roll number: 11\n",
      "marks 11\n",
      "Fail!!\n"
     ]
    }
   ],
   "source": [
    "#object creation\n",
    "s1=student(\"Abhi\",11,11)\n",
    "s1.display()\n",
    "s1.grade()"
   ]
  },
  {
   "cell_type": "code",
   "execution_count": 16,
   "metadata": {},
   "outputs": [
    {
     "name": "stdout",
     "output_type": "stream",
     "text": [
      "Hello,my name is : a\n",
      "roll number: 1\n",
      "marks 2\n"
     ]
    }
   ],
   "source": [
    "s2=student(\"a\",1,2)\n",
    "s2.display()"
   ]
  },
  {
   "cell_type": "code",
   "execution_count": 20,
   "metadata": {},
   "outputs": [],
   "source": [
    "class student1:\n",
    "    def __init__(self):\n",
    "        self.name=\"a\"\n",
    "        self.rollno=1\n",
    "        self.marks=99\n",
    "    def m1(self):\n",
    "        self.address=\"xxxx\"#inside the instant method by using self variable"
   ]
  },
  {
   "cell_type": "code",
   "execution_count": 21,
   "metadata": {},
   "outputs": [
    {
     "name": "stdout",
     "output_type": "stream",
     "text": [
      "{'name': 'a', 'rollno': 1, 'marks': 99}\n"
     ]
    }
   ],
   "source": [
    "ss=student1()\n",
    "print(ss.__dict__)"
   ]
  },
  {
   "cell_type": "code",
   "execution_count": 24,
   "metadata": {},
   "outputs": [
    {
     "name": "stdout",
     "output_type": "stream",
     "text": [
      "{'name': 'a', 'rollno': 1, 'marks': 99, 'address': 'xxxx'}\n"
     ]
    }
   ],
   "source": [
    "ss.m1()\n",
    "print(ss.__dict__)"
   ]
  },
  {
   "cell_type": "code",
   "execution_count": 27,
   "metadata": {},
   "outputs": [
    {
     "name": "stdout",
     "output_type": "stream",
     "text": [
      "{'name': 'a', 'rollno': 1, 'marks': 99, 'address': 'xxxx', 'age': 22}\n"
     ]
    }
   ],
   "source": [
    "ss.age=22\n",
    "print(ss.__dict__)"
   ]
  },
  {
   "cell_type": "code",
   "execution_count": 29,
   "metadata": {},
   "outputs": [
    {
     "name": "stdout",
     "output_type": "stream",
     "text": [
      "a 1\n"
     ]
    }
   ],
   "source": [
    "print(ss.name,ss.rollno)#Accessing the instant variable"
   ]
  },
  {
   "cell_type": "code",
   "execution_count": 8,
   "metadata": {},
   "outputs": [],
   "source": [
    "class test :\n",
    "    x=100\n",
    "    def __init__(self):\n",
    "        test.y=200\n",
    "        self.a=10\n",
    "        self.b=20\n",
    "        self.c=30\n",
    "        self.d=40\n",
    "    def m1(self):\n",
    "        h=100\n",
    "        print(h)\n",
    "        test.e=300\n",
    "        del self.d\n",
    "    def m2(self):\n",
    "        self.f=40\n",
    "        print(self.f)"
   ]
  },
  {
   "cell_type": "code",
   "execution_count": 10,
   "metadata": {},
   "outputs": [
    {
     "name": "stdout",
     "output_type": "stream",
     "text": [
      "{'a': 10, 'b': 20, 'c': 30, 'd': 40}\n",
      "__________________________________________\n",
      "{'__module__': '__main__', 'x': 100, '__init__': <function test.__init__ at 0x000002557813C158>, 'm1': <function test.m1 at 0x000002557813C1E0>, 'm2': <function test.m2 at 0x000002557813C268>, '__dict__': <attribute '__dict__' of 'test' objects>, '__weakref__': <attribute '__weakref__' of 'test' objects>, '__doc__': None, 'y': 200}\n",
      "__________________________________________\n",
      "100\n",
      "__________________________________________\n",
      "200\n",
      "__________________________________________\n",
      "100\n",
      "__________________________________________\n",
      "{'a': 10, 'b': 20, 'c': 30}\n",
      "__________________________________________\n",
      "{'__module__': '__main__', 'x': 100, '__init__': <function test.__init__ at 0x000002557813C158>, 'm1': <function test.m1 at 0x000002557813C1E0>, 'm2': <function test.m2 at 0x000002557813C268>, '__dict__': <attribute '__dict__' of 'test' objects>, '__weakref__': <attribute '__weakref__' of 'test' objects>, '__doc__': None, 'y': 200, 'e': 300}\n",
      "__________________________________________\n",
      "300\n",
      "__________________________________________\n",
      "100\n",
      "__________________________________________\n",
      "200\n",
      "__________________________________________\n",
      "300\n"
     ]
    }
   ],
   "source": [
    "t1=test()\n",
    "print(t1.__dict__)\n",
    "print(\"__________________________________________\")\n",
    "print(test.__dict__)\n",
    "print(\"__________________________________________\")\n",
    "print(test.x)\n",
    "print(\"__________________________________________\")\n",
    "print(test.y)\n",
    "print(\"__________________________________________\")\n",
    "t1.m1()\n",
    "print(\"__________________________________________\")\n",
    "print(t1.__dict__)\n",
    "print(\"__________________________________________\")\n",
    "print(test.__dict__)\n",
    "print(\"__________________________________________\")\n",
    "print(test.e)\n",
    "print(\"__________________________________________\")\n",
    "print(t1.x)\n",
    "print(\"__________________________________________\")\n",
    "print(t1.y)\n",
    "print(\"__________________________________________\")\n",
    "print(t1.e)"
   ]
  },
  {
   "cell_type": "code",
   "execution_count": 32,
   "metadata": {},
   "outputs": [
    {
     "name": "stdout",
     "output_type": "stream",
     "text": [
      "{'a': 10, 'b': 20, 'c': 30}\n"
     ]
    }
   ],
   "source": [
    "t.m1()\n",
    "print(t.__dict__)"
   ]
  },
  {
   "cell_type": "code",
   "execution_count": 33,
   "metadata": {},
   "outputs": [
    {
     "name": "stdout",
     "output_type": "stream",
     "text": [
      "{'b': 20, 'c': 30}\n"
     ]
    }
   ],
   "source": [
    "del t.a\n",
    "print(t.__dict__)"
   ]
  },
  {
   "cell_type": "code",
   "execution_count": 38,
   "metadata": {},
   "outputs": [],
   "source": [
    "t1=test()\n",
    "t2=test()\n",
    "t1.a=800\n",
    "t1.b=122\n",
    "t2.a=900\n"
   ]
  },
  {
   "cell_type": "code",
   "execution_count": 39,
   "metadata": {},
   "outputs": [
    {
     "name": "stdout",
     "output_type": "stream",
     "text": [
      "t1: 800 122 10\n",
      "t2: 900 20 10\n"
     ]
    }
   ],
   "source": [
    "print(\"t1:\",t1.a,t1.b,t1.x)\n",
    "print(\"t2:\",t2.a,t2.b,t2.x)"
   ]
  },
  {
   "cell_type": "code",
   "execution_count": 40,
   "metadata": {},
   "outputs": [
    {
     "name": "stdout",
     "output_type": "stream",
     "text": [
      "11\n",
      "12\n"
     ]
    }
   ],
   "source": [
    "t1.x=11\n",
    "t2.x=12\n",
    "print(t1.x)\n",
    "print(t2.x)"
   ]
  },
  {
   "cell_type": "code",
   "execution_count": 44,
   "metadata": {},
   "outputs": [
    {
     "name": "stdout",
     "output_type": "stream",
     "text": [
      "11 12 100\n"
     ]
    }
   ],
   "source": [
    "test.x=100\n",
    "print(t1.x,t2.x,test.x)"
   ]
  },
  {
   "cell_type": "code",
   "execution_count": 45,
   "metadata": {},
   "outputs": [
    {
     "data": {
      "text/plain": [
       "100"
      ]
     },
     "execution_count": 45,
     "metadata": {},
     "output_type": "execute_result"
    }
   ],
   "source": [
    "t3=test()\n",
    "t3.x"
   ]
  },
  {
   "cell_type": "code",
   "execution_count": 56,
   "metadata": {},
   "outputs": [],
   "source": [
    "del test.x"
   ]
  },
  {
   "cell_type": "code",
   "execution_count": 58,
   "metadata": {},
   "outputs": [
    {
     "name": "stdout",
     "output_type": "stream",
     "text": [
      "{'__module__': '__main__', '__init__': <function test.__init__ at 0x0000024C634E0BF8>, 'm1': <function test.m1 at 0x0000024C634E0400>, '__dict__': <attribute '__dict__' of 'test' objects>, '__weakref__': <attribute '__weakref__' of 'test' objects>, '__doc__': None, 'y': 200, 'e': 300}\n"
     ]
    },
    {
     "ename": "AttributeError",
     "evalue": "type object 'test' has no attribute 'x'",
     "output_type": "error",
     "traceback": [
      "\u001b[1;31m---------------------------------------------------------------------------\u001b[0m",
      "\u001b[1;31mAttributeError\u001b[0m                            Traceback (most recent call last)",
      "\u001b[1;32m<ipython-input-58-2f8772bc4164>\u001b[0m in \u001b[0;36m<module>\u001b[1;34m\u001b[0m\n\u001b[0;32m      1\u001b[0m \u001b[0mprint\u001b[0m\u001b[1;33m(\u001b[0m\u001b[0mtest\u001b[0m\u001b[1;33m.\u001b[0m\u001b[0m__dict__\u001b[0m\u001b[1;33m)\u001b[0m\u001b[1;33m\u001b[0m\u001b[1;33m\u001b[0m\u001b[0m\n\u001b[1;32m----> 2\u001b[1;33m \u001b[0mprint\u001b[0m\u001b[1;33m(\u001b[0m\u001b[0mtest\u001b[0m\u001b[1;33m.\u001b[0m\u001b[0mx\u001b[0m\u001b[1;33m)\u001b[0m\u001b[1;33m\u001b[0m\u001b[1;33m\u001b[0m\u001b[0m\n\u001b[0m",
      "\u001b[1;31mAttributeError\u001b[0m: type object 'test' has no attribute 'x'"
     ]
    }
   ],
   "source": [
    "print(test.__dict__)\n",
    "print(test.x)"
   ]
  },
  {
   "cell_type": "code",
   "execution_count": null,
   "metadata": {},
   "outputs": [],
   "source": []
  }
 ],
 "metadata": {
  "kernelspec": {
   "display_name": "Python 3",
   "language": "python",
   "name": "python3"
  },
  "language_info": {
   "codemirror_mode": {
    "name": "ipython",
    "version": 3
   },
   "file_extension": ".py",
   "mimetype": "text/x-python",
   "name": "python",
   "nbconvert_exporter": "python",
   "pygments_lexer": "ipython3",
   "version": "3.7.3"
  }
 },
 "nbformat": 4,
 "nbformat_minor": 2
}
