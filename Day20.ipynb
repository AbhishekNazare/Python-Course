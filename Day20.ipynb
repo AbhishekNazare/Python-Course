{
 "cells": [
  {
   "cell_type": "code",
   "execution_count": 3,
   "metadata": {},
   "outputs": [],
   "source": [
    "class test:\n",
    "    def m1(self):\n",
    "        global a\n",
    "        a=1\n",
    "        print(a)\n",
    "    def m2(self):\n",
    "        b=2\n",
    "        print(b)\n",
    "        print(a)"
   ]
  },
  {
   "cell_type": "code",
   "execution_count": 4,
   "metadata": {},
   "outputs": [
    {
     "name": "stdout",
     "output_type": "stream",
     "text": [
      "1\n",
      "2\n",
      "1\n"
     ]
    }
   ],
   "source": [
    "t1=test()\n",
    "t1.m1()\n",
    "t1.m2()"
   ]
  },
  {
   "cell_type": "code",
   "execution_count": 1,
   "metadata": {},
   "outputs": [],
   "source": [
    "class student:\n",
    "    \n",
    "    def __init__(self,name,marks):\n",
    "        self.name=name\n",
    "        self.marks=marks\n",
    "        \n",
    "    def display(self):\n",
    "        print(\"Hello, \",self.name)\n",
    "        print(\"your marks is:\",self.marks)\n",
    "        \n",
    "    def grade(self):\n",
    "        if self.marks>=60 :\n",
    "            print(\"First class\")\n",
    "        elif self.marks>=50 :\n",
    "            print(\"Second class\")\n",
    "        elif self.marks>=35:\n",
    "            print(\"Third class\")\n",
    "        else :print(\"Fail!!\")"
   ]
  },
  {
   "cell_type": "code",
   "execution_count": 4,
   "metadata": {},
   "outputs": [
    {
     "name": "stdout",
     "output_type": "stream",
     "text": [
      "Hello,  aaa\n",
      "your marks is: 22\n",
      "Fail!!\n"
     ]
    }
   ],
   "source": [
    "s=student(\"aaa\",22)\n",
    "s.display()\n",
    "s.grade()\n"
   ]
  },
  {
   "cell_type": "code",
   "execution_count": 6,
   "metadata": {},
   "outputs": [
    {
     "name": "stdout",
     "output_type": "stream",
     "text": [
      "Enter the number of students:2\n",
      "Enter name:a\n",
      "Enter marks:56\n",
      "Hello,  a\n",
      "your marks is: 56\n",
      "Second class\n",
      "\n",
      "Enter name:q\n",
      "Enter marks:1\n",
      "Hello,  q\n",
      "your marks is: 1\n",
      "Fail!!\n",
      "\n"
     ]
    }
   ],
   "source": [
    "n=int(input(\"Enter the number of students:\"))\n",
    "for i in range(n):\n",
    "    name=input(\"Enter name:\")\n",
    "    marks=int(input(\"Enter marks:\"))\n",
    "    s=student(name,marks)\n",
    "    s.display()\n",
    "    s.grade()\n",
    "    print()"
   ]
  },
  {
   "cell_type": "code",
   "execution_count": 5,
   "metadata": {},
   "outputs": [],
   "source": [
    "class student:\n",
    "    def setname(self,name):\n",
    "        self.name=name\n",
    "    def getname(self):\n",
    "        return self.name\n",
    "   "
   ]
  },
  {
   "cell_type": "code",
   "execution_count": 6,
   "metadata": {},
   "outputs": [
    {
     "data": {
      "text/plain": [
       "'aa'"
      ]
     },
     "execution_count": 6,
     "metadata": {},
     "output_type": "execute_result"
    }
   ],
   "source": [
    "s=student()\n",
    "s.setname(\"aa\")\n",
    "s.getname()"
   ]
  },
  {
   "cell_type": "code",
   "execution_count": 26,
   "metadata": {},
   "outputs": [
    {
     "name": "stdout",
     "output_type": "stream",
     "text": [
      "10\n"
     ]
    }
   ],
   "source": [
    "student.m1(10)"
   ]
  },
  {
   "cell_type": "code",
   "execution_count": 7,
   "metadata": {},
   "outputs": [],
   "source": [
    "class animal:\n",
    "    legs=4\n",
    "    \n",
    "    #a decorator function inside the animal class\n",
    "    @classmethod\n",
    "    def walk(cls,name):\n",
    "        print(name,\" walks with \",cls.legs,\" legs\")\n",
    "    \n",
    "    #normal instant method inside the animal class\n",
    "    def m1(self,name):\n",
    "        print(name)\n",
    "        print(name,\" walks with \",animal.legs,\" legs\")\n",
    "    \n",
    "     #normal function which does not belong to the animal class\n",
    "    @staticmethod\n",
    "    def m2(name):\n",
    "        print(name)\n",
    "        print(name,\" walks with \",animal.legs,\" legs\")"
   ]
  },
  {
   "cell_type": "code",
   "execution_count": 8,
   "metadata": {},
   "outputs": [
    {
     "name": "stdout",
     "output_type": "stream",
     "text": [
      "dog  walks with  4  legs\n"
     ]
    }
   ],
   "source": [
    "animal.walk(\"dog\")\n",
    "#animal.m1(\"ox\")\n",
    "#class itself cannot call its methods but objects can call methods of class\n"
   ]
  },
  {
   "cell_type": "code",
   "execution_count": 42,
   "metadata": {},
   "outputs": [
    {
     "name": "stdout",
     "output_type": "stream",
     "text": [
      "dog  walks with  4  legs\n",
      "ox\n",
      "ox  walks with  4  legs\n"
     ]
    }
   ],
   "source": [
    "a=animal()\n",
    "a.walk(\"dog\")\n",
    "a.m1(\"ox\")"
   ]
  },
  {
   "cell_type": "code",
   "execution_count": 48,
   "metadata": {},
   "outputs": [],
   "source": [
    "#static methods\n",
    "class calculater:\n",
    "    \n",
    "    @staticmethod\n",
    "    def add(x,y):\n",
    "        print(\"Sum = \",x+y)\n",
    "    @staticmethod\n",
    "    def subt(x,y):\n",
    "        print(\"Subt = \",x-y)"
   ]
  },
  {
   "cell_type": "code",
   "execution_count": 49,
   "metadata": {},
   "outputs": [
    {
     "name": "stdout",
     "output_type": "stream",
     "text": [
      "Sum =  2\n",
      "Subt =  0\n"
     ]
    }
   ],
   "source": [
    "calculater.add(1,1)\n",
    "calculater.subt(1,1)"
   ]
  },
  {
   "cell_type": "code",
   "execution_count": 50,
   "metadata": {},
   "outputs": [
    {
     "name": "stdout",
     "output_type": "stream",
     "text": [
      "Sum =  2\n"
     ]
    }
   ],
   "source": [
    "c=calculater()\n",
    "c.add(1,1)"
   ]
  },
  {
   "cell_type": "code",
   "execution_count": 51,
   "metadata": {},
   "outputs": [
    {
     "name": "stdout",
     "output_type": "stream",
     "text": [
      "object inita....\n",
      "performed clean up activity!\n",
      "End of application\n"
     ]
    }
   ],
   "source": [
    "#destructors\n",
    "import time\n",
    "class test :\n",
    "    def __init__(self):\n",
    "        print(\"object inita....\")\n",
    "        \n",
    "    def __del__(self):\n",
    "        print(\"performed clean up activity!\")\n",
    "        \n"
   ]
  },
  {
   "cell_type": "code",
   "execution_count": 54,
   "metadata": {},
   "outputs": [
    {
     "name": "stdout",
     "output_type": "stream",
     "text": [
      "object inita....\n",
      "performed clean up activity!\n",
      "End of application\n"
     ]
    }
   ],
   "source": [
    "t1=test()\n",
    "t1=None\n",
    "time.sleep(2)\n",
    "print(\"End of application\")\n",
    "\n",
    "    "
   ]
  },
  {
   "cell_type": "code",
   "execution_count": 56,
   "metadata": {},
   "outputs": [
    {
     "name": "stdout",
     "output_type": "stream",
     "text": [
      "object inita....\n",
      "object not yet destroyed after deleting t1\n",
      "object not yet destroyed after deleting t2\n",
      "trying to delete last reference variable\n",
      "performed clean up activity!\n"
     ]
    }
   ],
   "source": [
    "t1=test()\n",
    "t2=t1\n",
    "t3=t2\n",
    "del t1\n",
    "time.sleep(5)\n",
    "print(\"object not yet destroyed after deleting t1\")\n",
    "del t2\n",
    "time.sleep(5)\n",
    "print(\"object not yet destroyed after deleting t2\")\n",
    "print(\"trying to delete last reference variable\")\n",
    "del t3\n"
   ]
  },
  {
   "cell_type": "code",
   "execution_count": null,
   "metadata": {},
   "outputs": [],
   "source": []
  }
 ],
 "metadata": {
  "kernelspec": {
   "display_name": "Python 3",
   "language": "python",
   "name": "python3"
  },
  "language_info": {
   "codemirror_mode": {
    "name": "ipython",
    "version": 3
   },
   "file_extension": ".py",
   "mimetype": "text/x-python",
   "name": "python",
   "nbconvert_exporter": "python",
   "pygments_lexer": "ipython3",
   "version": "3.7.3"
  }
 },
 "nbformat": 4,
 "nbformat_minor": 2
}
