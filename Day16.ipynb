{
 "cells": [
  {
   "cell_type": "code",
   "execution_count": 8,
   "metadata": {},
   "outputs": [
    {
     "name": "stdout",
     "output_type": "stream",
     "text": [
      "False\n",
      "True\n"
     ]
    }
   ],
   "source": [
    "with open(\"abc.txt\",\"w\") as f:\n",
    "    f.write(\"aaa\\n\")\n",
    "    f.write(\"sss\\n\")\n",
    "    print(f.closed)\n",
    "print(f.closed)"
   ]
  },
  {
   "cell_type": "code",
   "execution_count": 12,
   "metadata": {},
   "outputs": [
    {
     "name": "stdout",
     "output_type": "stream",
     "text": [
      "0\n",
      "aa\n",
      "2\n",
      "a\n",
      "s\n"
     ]
    }
   ],
   "source": [
    "f=open(\"abc.txt\",\"r\")\n",
    "print(f.tell())\n",
    "print(f.read(2))\n",
    "print(f.tell())\n",
    "print(f.read(3))"
   ]
  },
  {
   "cell_type": "code",
   "execution_count": 24,
   "metadata": {},
   "outputs": [
    {
     "name": "stdout",
     "output_type": "stream",
     "text": [
      "current curser position is  0\n",
      "Learning python is difficult\n",
      "current curser position is  28\n",
      "current curser position is  19\n",
      "current curser position is  0\n",
      "Learning python is easy!!!!!!!!!\n",
      "Data modified successfully\n"
     ]
    }
   ],
   "source": [
    "s=\"Learning python is difficult\"\n",
    "f=open(\"abc.txt\",\"w\")\n",
    "f.write(s) \n",
    "with open (\"abc.txt\",\"r+\") as f:\n",
    "    print(\"current curser position is \",f.tell())\n",
    "    text=f.read()\n",
    "    print(text)\n",
    "    print(\"current curser position is \",f.tell())\n",
    "    f.seek(19)\n",
    "    print(\"current curser position is \",f.tell())\n",
    "    f.write(\"easy!!!!!!!!!\")\n",
    "    f.seek(0)\n",
    "    print(\"current curser position is \",f.tell())\n",
    "    text=f.read()\n",
    "    print(text)\n",
    "    print(\"Data modified successfully\")\n",
    "#f.close()"
   ]
  },
  {
   "cell_type": "code",
   "execution_count": 44,
   "metadata": {},
   "outputs": [
    {
     "name": "stdout",
     "output_type": "stream",
     "text": [
      "Enter file name:sa\n",
      "File not found!\n"
     ]
    },
    {
     "ename": "SystemExit",
     "evalue": "0",
     "output_type": "error",
     "traceback": [
      "An exception has occurred, use %tb to see the full traceback.\n",
      "\u001b[1;31mSystemExit\u001b[0m\u001b[1;31m:\u001b[0m 0\n"
     ]
    }
   ],
   "source": [
    "import os,sys\n",
    "ss=input(\"Enter file name:\")\n",
    "if os.path.isfile(ss):\n",
    "    print(\"Filr exists!\")\n",
    "    f=open(ss,\"r\")\n",
    "    print(f.read())\n",
    "else:\n",
    "    print(\"File not found!\")\n",
    "    sys.exit(0)\n",
    "#print(ss.closed)\n"
   ]
  },
  {
   "cell_type": "code",
   "execution_count": 50,
   "metadata": {},
   "outputs": [
    {
     "name": "stdout",
     "output_type": "stream",
     "text": [
      "Enter number of employes: 2\n",
      "Enter employee number:1\n",
      "Enter employee name:q\n",
      "Enter employee salary:q\n",
      "Enter employee address:q\n",
      "Enter employee number:2\n",
      "Enter employee name:w\n",
      "Enter employee salary:w\n",
      "Enter employee address:w\n",
      "data returned on csv file is successful!\n"
     ]
    }
   ],
   "source": [
    "#how to write data in csv file\n",
    "import csv\n",
    "with open (\"emp.csv\",\"w\",newline=\"\") as f:\n",
    "    w=csv.writer(f)#returns csv write object\n",
    "    w.writerow([\"E.NO\",\"E.NAME\",\"E.SALARY\",\"E.ADDRESS\"])\n",
    "    #n=3\n",
    "    n=int(input(\"Enter number of employes: \"))\n",
    "    for i in range(n):\n",
    "        eno=input(\"Enter employee number:\")\n",
    "        ename=input(\"Enter employee name:\")\n",
    "        esal=input(\"Enter employee salary:\")\n",
    "        eadd=input(\"Enter employee address:\")\n",
    "        w.writerow([eno,ename,esal,eadd])\n",
    "print(\"data returned on csv file is successful!\")"
   ]
  },
  {
   "cell_type": "code",
   "execution_count": 53,
   "metadata": {},
   "outputs": [
    {
     "name": "stdout",
     "output_type": "stream",
     "text": [
      "E.NO \t\tE.NAME \t\tE.SALARY \t\tE.ADDRESS \t\t\n",
      "1 \t\tq \t\tq \t\tq \t\t\n",
      "2 \t\tw \t\tw \t\tw \t\t\n"
     ]
    }
   ],
   "source": [
    "import csv\n",
    "f=open(\"emp.csv\",\"r\")\n",
    "r=csv.reader(f)\n",
    "data=list(r)\n",
    "#print(data)\n",
    "for line in data:\n",
    "    for word in line:\n",
    "        print(word,\"\\t\\t\",end=\"\")\n",
    "    print()"
   ]
  },
  {
   "cell_type": "code",
   "execution_count": 54,
   "metadata": {},
   "outputs": [
    {
     "ename": "ZeroDivisionError",
     "evalue": "division by zero",
     "output_type": "error",
     "traceback": [
      "\u001b[1;31m---------------------------------------------------------------------------\u001b[0m",
      "\u001b[1;31mZeroDivisionError\u001b[0m                         Traceback (most recent call last)",
      "\u001b[1;32m<ipython-input-54-f6cc6d14333b>\u001b[0m in \u001b[0;36m<module>\u001b[1;34m\u001b[0m\n\u001b[1;32m----> 1\u001b[1;33m \u001b[1;36m3\u001b[0m\u001b[1;33m/\u001b[0m\u001b[1;36m0\u001b[0m\u001b[1;33m\u001b[0m\u001b[1;33m\u001b[0m\u001b[0m\n\u001b[0m",
      "\u001b[1;31mZeroDivisionError\u001b[0m: division by zero"
     ]
    }
   ],
   "source": [
    "3/0"
   ]
  },
  {
   "cell_type": "code",
   "execution_count": null,
   "metadata": {},
   "outputs": [],
   "source": []
  }
 ],
 "metadata": {
  "kernelspec": {
   "display_name": "Python 3",
   "language": "python",
   "name": "python3"
  },
  "language_info": {
   "codemirror_mode": {
    "name": "ipython",
    "version": 3
   },
   "file_extension": ".py",
   "mimetype": "text/x-python",
   "name": "python",
   "nbconvert_exporter": "python",
   "pygments_lexer": "ipython3",
   "version": "3.7.3"
  }
 },
 "nbformat": 4,
 "nbformat_minor": 2
}
